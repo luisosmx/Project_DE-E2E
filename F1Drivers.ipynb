{
  "nbformat": 4,
  "nbformat_minor": 0,
  "metadata": {
    "colab": {
      "provenance": [],
      "authorship_tag": "ABX9TyNxtdMKQ+koWaSUrgjXZ6+5",
      "include_colab_link": true
    },
    "kernelspec": {
      "name": "python3",
      "display_name": "Python 3"
    },
    "language_info": {
      "name": "python"
    }
  },
  "cells": [
    {
      "cell_type": "markdown",
      "metadata": {
        "id": "view-in-github",
        "colab_type": "text"
      },
      "source": [
        "<a href=\"https://colab.research.google.com/github/luisosmx/Project_DE-E2E/blob/main/F1Drivers.ipynb\" target=\"_parent\"><img src=\"https://colab.research.google.com/assets/colab-badge.svg\" alt=\"Open In Colab\"/></a>"
      ]
    },
    {
      "cell_type": "code",
      "source": [
        "!pip install google-cloud-bigquery\n"
      ],
      "metadata": {
        "id": "9ktomrLeo5vj"
      },
      "execution_count": null,
      "outputs": []
    },
    {
      "cell_type": "code",
      "execution_count": 2,
      "metadata": {
        "colab": {
          "base_uri": "https://localhost:8080/"
        },
        "id": "OgVamrAGnj6O",
        "outputId": "38ed9923-2ee4-4d4f-a090-2f358e3573b4"
      },
      "outputs": [
        {
          "output_type": "stream",
          "name": "stdout",
          "text": [
            "    Pos                Driver Nationality                           Car  PTS\n",
            "0     1    Max Verstappen VER         NED          Red Bull Racing RBPT  454\n",
            "1     2   Charles Leclerc LEC         MON                       Ferrari  308\n",
            "2     3      Sergio Perez PER         MEX          Red Bull Racing RBPT  305\n",
            "3     4    George Russell RUS         GBR                      Mercedes  275\n",
            "4     5      Carlos Sainz SAI         ESP                       Ferrari  246\n",
            "5     6    Lewis Hamilton HAM         GBR                      Mercedes  240\n",
            "6     7      Lando Norris NOR         GBR              McLaren Mercedes  122\n",
            "7     8      Esteban Ocon OCO         FRA                Alpine Renault   92\n",
            "8     9   Fernando Alonso ALO         ESP                Alpine Renault   81\n",
            "9    10   Valtteri Bottas BOT         FIN            Alfa Romeo Ferrari   49\n",
            "10   11  Daniel Ricciardo RIC         AUS              McLaren Mercedes   37\n",
            "11   12  Sebastian Vettel VET         GER  Aston Martin Aramco Mercedes   37\n",
            "12   13   Kevin Magnussen MAG         DEN                  Haas Ferrari   25\n",
            "13   14      Pierre Gasly GAS         FRA               AlphaTauri RBPT   23\n",
            "14   15      Lance Stroll STR         CAN  Aston Martin Aramco Mercedes   18\n",
            "15   16   Mick Schumacher MSC         GER                  Haas Ferrari   12\n",
            "16   17      Yuki Tsunoda TSU         JPN               AlphaTauri RBPT   12\n",
            "17   18       Zhou Guanyu ZHO         CHN            Alfa Romeo Ferrari    6\n",
            "18   19   Alexander Albon ALB         THA             Williams Mercedes    4\n",
            "19   20   Nicholas Latifi LAT         CAN             Williams Mercedes    2\n",
            "20   21     Nyck De Vries DEV         NED             Williams Mercedes    2\n",
            "21   22   Nico Hulkenberg HUL         GER  Aston Martin Aramco Mercedes    0\n"
          ]
        },
        {
          "output_type": "stream",
          "name": "stderr",
          "text": [
            "100%|██████████| 1/1 [00:00<00:00, 8811.56it/s]\n"
          ]
        }
      ],
      "source": [
        "#------------------libraries---------------\n",
        "\n",
        "import pandas as pd\n",
        "import requests\n",
        "import os\n",
        "import pandas_gbq\n",
        "from bs4 import BeautifulSoup\n",
        "from google.colab import auth\n",
        "from google.cloud import bigquery\n",
        "\n",
        "\n",
        "#-----------------code-------------------\n",
        "#Extraction of data from the F1 page, analysis and data extraction to use, df download\n",
        "\n",
        "\n",
        "url = \"https://www.formula1.com/en/results.html/2022/drivers.html\"\n",
        "response = requests.get(url)\n",
        "soup = BeautifulSoup(response.content, \"html.parser\")\n",
        "table = soup.find(\"table\", attrs={\"class\": \"resultsarchive-table\"})\n",
        "df = pd.read_html(str(table))[0]\n",
        "df = df[[\"Pos\", \"Driver\", \"Nationality\", \"Car\", \"PTS\"]]\n",
        "print(df)\n",
        "\n",
        "df.to_csv(\"resultados_drivers.csv\", index=False)\n",
        "\n",
        "\n",
        "#authentication to GCP and data upload to the indicated table\n",
        "\n",
        "os.environ['GOOGLE_APPLICATION_CREDENTIALS'] = '/content/projectf1-data-7faef3aab5d9.json'\n",
        "client = bigquery.Client(project='projectf1-data')\n",
        "tableId = 'projectf1-data.F1_data.DriversF1'\n",
        "projectId = 'projectf1-data'\n",
        "\n",
        "df_dowload = df.to_gbq(destination_table=tableId,\n",
        "                      project_id=projectId,\n",
        "                      if_exists='replace')\n"
      ]
    },
    {
      "cell_type": "code",
      "source": [],
      "metadata": {
        "id": "4Ui1_H_BqwQe"
      },
      "execution_count": null,
      "outputs": []
    }
  ]
}